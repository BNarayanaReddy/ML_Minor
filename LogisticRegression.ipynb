{
  "nbformat": 4,
  "nbformat_minor": 0,
  "metadata": {
    "colab": {
      "provenance": [],
      "authorship_tag": "ABX9TyOOQmLms5+zhta5OVDSZuPn",
      "include_colab_link": true
    },
    "kernelspec": {
      "name": "python3",
      "display_name": "Python 3"
    },
    "language_info": {
      "name": "python"
    }
  },
  "cells": [
    {
      "cell_type": "markdown",
      "metadata": {
        "id": "view-in-github",
        "colab_type": "text"
      },
      "source": [
        "<a href=\"https://colab.research.google.com/github/BNarayanaReddy/ML_Minor/blob/main/LogisticRegression.ipynb\" target=\"_parent\"><img src=\"https://colab.research.google.com/assets/colab-badge.svg\" alt=\"Open In Colab\"/></a>"
      ]
    },
    {
      "cell_type": "code",
      "execution_count": 1,
      "metadata": {
        "id": "sAzTP_ZmIEjP"
      },
      "outputs": [],
      "source": [
        "import numpy as np"
      ]
    },
    {
      "cell_type": "markdown",
      "source": [
        "Data Preparation"
      ],
      "metadata": {
        "id": "IwgSIGKuLYLf"
      }
    },
    {
      "cell_type": "code",
      "source": [
        "np.random.seed(42)"
      ],
      "metadata": {
        "id": "cE0B8QlYJYZ7"
      },
      "execution_count": 2,
      "outputs": []
    },
    {
      "cell_type": "code",
      "source": [
        "height = np.random.normal(loc = 168, scale = 10, size=50) # average 168, deviation 10, size 50\n",
        "weight = np.random.normal(loc = 68, scale = 5, size=50)"
      ],
      "metadata": {
        "id": "SsqHYjUrJaKy"
      },
      "execution_count": 3,
      "outputs": []
    },
    {
      "cell_type": "code",
      "source": [
        "bmi = weight / (height/100)**2"
      ],
      "metadata": {
        "id": "aI2xtvJ-J8Pk"
      },
      "execution_count": 4,
      "outputs": []
    },
    {
      "cell_type": "code",
      "source": [
        "labels = (bmi >= 25).astype(int) # obese = 1 else 0"
      ],
      "metadata": {
        "id": "wxJ_CTBJKJuD"
      },
      "execution_count": 5,
      "outputs": []
    },
    {
      "cell_type": "code",
      "source": [
        "labels"
      ],
      "metadata": {
        "colab": {
          "base_uri": "https://localhost:8080/"
        },
        "id": "zY8VfO-CKWgk",
        "outputId": "d308bf94-f06b-4976-f54a-a810be4b8e31"
      },
      "execution_count": 6,
      "outputs": [
        {
          "output_type": "execute_result",
          "data": {
            "text/plain": [
              "array([0, 0, 0, 0, 1, 1, 0, 0, 1, 0, 0, 1, 0, 1, 1, 1, 1, 0, 1, 1, 0, 1,\n",
              "       0, 1, 0, 1, 1, 0, 1, 0, 1, 0, 1, 1, 0, 1, 1, 1, 1, 0, 0, 1, 0, 0,\n",
              "       1, 0, 1, 0, 0, 1])"
            ]
          },
          "metadata": {},
          "execution_count": 6
        }
      ]
    },
    {
      "cell_type": "code",
      "source": [
        "height = height.reshape(-1, 1)\n",
        "weight = weight.reshape(-1, 1)"
      ],
      "metadata": {
        "id": "DE1JHWWZK0N1"
      },
      "execution_count": 7,
      "outputs": []
    },
    {
      "cell_type": "code",
      "source": [
        "X = np.concatenate([height/np.max(height), weight/np.max(weight)], axis = 1)\n",
        "X.shape"
      ],
      "metadata": {
        "colab": {
          "base_uri": "https://localhost:8080/"
        },
        "id": "7ht4LqzPKXU6",
        "outputId": "13ccddbb-e66b-4d87-d1aa-a520ff27e71f"
      },
      "execution_count": 8,
      "outputs": [
        {
          "output_type": "execute_result",
          "data": {
            "text/plain": [
              "(50, 2)"
            ]
          },
          "metadata": {},
          "execution_count": 8
        }
      ]
    },
    {
      "cell_type": "code",
      "source": [
        "Y = np.copy(labels).reshape(-1,1)"
      ],
      "metadata": {
        "id": "UpeE_12WKmBw"
      },
      "execution_count": 9,
      "outputs": []
    },
    {
      "cell_type": "code",
      "source": [
        "Y.shape"
      ],
      "metadata": {
        "colab": {
          "base_uri": "https://localhost:8080/"
        },
        "id": "_atv8VclLLOS",
        "outputId": "d2fdf287-e2bc-4266-acaf-358bf37f5b80"
      },
      "execution_count": 10,
      "outputs": [
        {
          "output_type": "execute_result",
          "data": {
            "text/plain": [
              "(50, 1)"
            ]
          },
          "metadata": {},
          "execution_count": 10
        }
      ]
    },
    {
      "cell_type": "markdown",
      "source": [
        "Model Training"
      ],
      "metadata": {
        "id": "PmiLiaweLbIq"
      }
    },
    {
      "cell_type": "code",
      "source": [
        "w = np.random.rand(2,1)*5\n",
        "b = np.random.rand(1,1)*5\n",
        "w.shape, b.shape"
      ],
      "metadata": {
        "colab": {
          "base_uri": "https://localhost:8080/"
        },
        "id": "OWcrN8mkLskS",
        "outputId": "b01f59a6-76c3-4006-8d1f-633d53abff57"
      },
      "execution_count": 11,
      "outputs": [
        {
          "output_type": "execute_result",
          "data": {
            "text/plain": [
              "((2, 1), (1, 1))"
            ]
          },
          "metadata": {},
          "execution_count": 11
        }
      ]
    },
    {
      "cell_type": "code",
      "source": [
        "def predict(X, w, b):\n",
        "  return 1/(1+np.exp(-np.dot(X,w) + b))"
      ],
      "metadata": {
        "id": "v0YGTkPZLRU9"
      },
      "execution_count": 12,
      "outputs": []
    },
    {
      "cell_type": "code",
      "source": [
        "def loss(Y_hat, Y):\n",
        "  return np.mean((Y_hat - Y)**2)"
      ],
      "metadata": {
        "id": "qMOcrjHXMRfU"
      },
      "execution_count": 13,
      "outputs": []
    },
    {
      "cell_type": "code",
      "source": [
        "Y_hat = predict(X, w, b)\n",
        "print(loss(Y_hat, Y ))"
      ],
      "metadata": {
        "colab": {
          "base_uri": "https://localhost:8080/"
        },
        "id": "rGDrTdj5UTyY",
        "outputId": "756ee6bd-3979-4330-cb1b-b8fc912476d1"
      },
      "execution_count": 14,
      "outputs": [
        {
          "output_type": "stream",
          "name": "stdout",
          "text": [
            "0.40148758583968375\n"
          ]
        }
      ]
    },
    {
      "cell_type": "code",
      "source": [
        "def compute_gradients(X, Y, w, b):\n",
        "  dw = np.zeros(X.shape[1]).reshape(-1,1)\n",
        "  db = np.zeros(Y.shape[1]).reshape(-1,1)\n",
        "  for i in range(X.shape[0]):\n",
        "    y_hat = predict(X, w, b)\n",
        "    for j in range(X.shape[1]):\n",
        "      dw[j] += (y_hat[i] - Y[i])*y_hat[i]*(1-y_hat[i])*X[i][j]\n",
        "    db += (y_hat[i] - Y[i])*y_hat[i]*(1-y_hat[i])\n",
        "  return dw, db"
      ],
      "metadata": {
        "id": "xBhjcJgrMZOy"
      },
      "execution_count": 15,
      "outputs": []
    },
    {
      "cell_type": "code",
      "source": [
        "compute_gradients(X,Y, w, b)"
      ],
      "metadata": {
        "colab": {
          "base_uri": "https://localhost:8080/"
        },
        "id": "mJEWbemhORfL",
        "outputId": "56d36378-9933-4b6e-b943-aab89be1070d"
      },
      "execution_count": 16,
      "outputs": [
        {
          "output_type": "execute_result",
          "data": {
            "text/plain": [
              "(array([[1.46571625],\n",
              "        [1.36250861]]),\n",
              " array([[1.5730925]]))"
            ]
          },
          "metadata": {},
          "execution_count": 16
        }
      ]
    },
    {
      "cell_type": "code",
      "source": [
        "def fit(X, Y, w, b, epochs=100, lr=1):\n",
        "  for epoch in range(epochs):\n",
        "    dw, db = compute_gradients(X, Y, w, b)\n",
        "    w = w - lr*dw\n",
        "    b = b - lr*db\n",
        "    if epoch %10 ==0:\n",
        "      print(f'Loss: ', loss(predict(X,w,b), Y ))\n",
        "  return w, b\n"
      ],
      "metadata": {
        "id": "QZS8MbXOUzp3"
      },
      "execution_count": 17,
      "outputs": []
    },
    {
      "cell_type": "code",
      "source": [
        "fit(X, Y, w, b)"
      ],
      "metadata": {
        "id": "eLtd8b6KOsmt",
        "colab": {
          "base_uri": "https://localhost:8080/"
        },
        "outputId": "23ca36dc-41d1-4cd6-ff62-af891c7a1f8a"
      },
      "execution_count": 18,
      "outputs": [
        {
          "output_type": "stream",
          "name": "stdout",
          "text": [
            "Loss:  0.3246827212965393\n",
            "Loss:  0.23020561156945538\n",
            "Loss:  0.21245336114023136\n",
            "Loss:  0.20355819754621227\n",
            "Loss:  0.20164131570428748\n",
            "Loss:  0.1922776872179394\n",
            "Loss:  0.18349882096541212\n",
            "Loss:  0.18139458527270802\n",
            "Loss:  0.18615690971357168\n",
            "Loss:  0.19413376391303785\n"
          ]
        },
        {
          "output_type": "execute_result",
          "data": {
            "text/plain": [
              "(array([[-2.42956636],\n",
              "        [20.01360408]]),\n",
              " array([[15.89710259]]))"
            ]
          },
          "metadata": {},
          "execution_count": 18
        }
      ]
    },
    {
      "cell_type": "code",
      "source": [
        "y_predicted = predict(X, *fit(X, Y, w, b, epochs = 100))"
      ],
      "metadata": {
        "colab": {
          "base_uri": "https://localhost:8080/"
        },
        "id": "A1XaBP_9VVPF",
        "outputId": "f51b88c4-372f-4292-9fac-b66c5a3275b5"
      },
      "execution_count": 19,
      "outputs": [
        {
          "output_type": "stream",
          "name": "stdout",
          "text": [
            "Loss:  0.3246827212965393\n",
            "Loss:  0.23020561156945538\n",
            "Loss:  0.21245336114023136\n",
            "Loss:  0.20355819754621227\n",
            "Loss:  0.20164131570428748\n",
            "Loss:  0.1922776872179394\n",
            "Loss:  0.18349882096541212\n",
            "Loss:  0.18139458527270802\n",
            "Loss:  0.18615690971357168\n",
            "Loss:  0.19413376391303785\n"
          ]
        }
      ]
    },
    {
      "cell_type": "code",
      "source": [
        "predictions = (y_predicted > 0.5).astype(int)"
      ],
      "metadata": {
        "id": "6qPsK6DMW32j"
      },
      "execution_count": 20,
      "outputs": []
    },
    {
      "cell_type": "code",
      "source": [
        "TP = np.sum((predictions == 1) & (Y == 1))\n",
        "FP = np.sum((predictions == 1) & (Y == 0))\n",
        "TN = np.sum((predictions == 0) & (Y == 0))\n",
        "FN = np.sum((predictions == 0) & (Y == 1))\n"
      ],
      "metadata": {
        "id": "BtbfZhSwXRIy"
      },
      "execution_count": 21,
      "outputs": []
    },
    {
      "cell_type": "code",
      "source": [
        "accuracy = ((TP + TN)/(TP+TN+FP+FN))*100"
      ],
      "metadata": {
        "id": "4i93EipgXVqy"
      },
      "execution_count": 22,
      "outputs": []
    },
    {
      "cell_type": "code",
      "source": [
        "accuracy"
      ],
      "metadata": {
        "colab": {
          "base_uri": "https://localhost:8080/"
        },
        "id": "0v20i1i6YE91",
        "outputId": "2141ad4a-bfe5-4150-8a27-b0f8e65e36a0"
      },
      "execution_count": 23,
      "outputs": [
        {
          "output_type": "execute_result",
          "data": {
            "text/plain": [
              "np.float64(64.0)"
            ]
          },
          "metadata": {},
          "execution_count": 23
        }
      ]
    },
    {
      "cell_type": "code",
      "source": [
        "precision = (TP + FP)/TP\n",
        "precision"
      ],
      "metadata": {
        "colab": {
          "base_uri": "https://localhost:8080/"
        },
        "id": "JCx7W4X7Y63e",
        "outputId": "e34e48e8-f587-404a-d191-dfc222598ad0"
      },
      "execution_count": 24,
      "outputs": [
        {
          "output_type": "execute_result",
          "data": {
            "text/plain": [
              "np.float64(1.5)"
            ]
          },
          "metadata": {},
          "execution_count": 24
        }
      ]
    },
    {
      "cell_type": "code",
      "source": [
        "recall_sensitivity = TP/(TP+FN)\n",
        "recall_sensitivity"
      ],
      "metadata": {
        "colab": {
          "base_uri": "https://localhost:8080/"
        },
        "id": "bM5sjxt8ZSui",
        "outputId": "b5cf55a8-a40d-4d16-af16-5b787e3ced6c"
      },
      "execution_count": 25,
      "outputs": [
        {
          "output_type": "execute_result",
          "data": {
            "text/plain": [
              "np.float64(0.6153846153846154)"
            ]
          },
          "metadata": {},
          "execution_count": 25
        }
      ]
    },
    {
      "cell_type": "code",
      "source": [
        "f1_score = (2*precision*recall_sensitivity)/(precision+recall_sensitivity)\n",
        "f1_score"
      ],
      "metadata": {
        "colab": {
          "base_uri": "https://localhost:8080/"
        },
        "id": "BUCLUDIxZi3J",
        "outputId": "543bc308-3d4e-438d-bb76-93a391457f58"
      },
      "execution_count": 26,
      "outputs": [
        {
          "output_type": "execute_result",
          "data": {
            "text/plain": [
              "np.float64(0.8727272727272728)"
            ]
          },
          "metadata": {},
          "execution_count": 26
        }
      ]
    }
  ]
}