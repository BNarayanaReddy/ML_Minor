{
  "nbformat": 4,
  "nbformat_minor": 0,
  "metadata": {
    "colab": {
      "provenance": [],
      "authorship_tag": "ABX9TyMRxZNDz5dqNH0FS4UMfXB/",
      "include_colab_link": true
    },
    "kernelspec": {
      "name": "python3",
      "display_name": "Python 3"
    },
    "language_info": {
      "name": "python"
    }
  },
  "cells": [
    {
      "cell_type": "markdown",
      "metadata": {
        "id": "view-in-github",
        "colab_type": "text"
      },
      "source": [
        "<a href=\"https://colab.research.google.com/github/BNarayanaReddy/ML_Minor/blob/main/PCA_Implementation.ipynb\" target=\"_parent\"><img src=\"https://colab.research.google.com/assets/colab-badge.svg\" alt=\"Open In Colab\"/></a>"
      ]
    },
    {
      "cell_type": "code",
      "source": [
        "import numpy as np"
      ],
      "metadata": {
        "id": "bZLqgv8_UtxL"
      },
      "execution_count": 1,
      "outputs": []
    },
    {
      "cell_type": "code",
      "source": [
        "import seaborn as sns"
      ],
      "metadata": {
        "id": "0cFjLge5U3pc"
      },
      "execution_count": 2,
      "outputs": []
    },
    {
      "cell_type": "code",
      "execution_count": 3,
      "metadata": {
        "id": "hLxMkZAjUZ1H"
      },
      "outputs": [],
      "source": [
        "height = np.random.normal(loc = 160, size=50).reshape(-1, 1)\n",
        "weight = np.random.normal(loc = 60, size=50).reshape(-1, 1)\n",
        "bmi = weight/(height/100)**2\n"
      ]
    },
    {
      "cell_type": "code",
      "source": [
        "X = np.concatenate([height, weight, bmi], axis = 1)\n"
      ],
      "metadata": {
        "id": "OEIgwCYMUoHt"
      },
      "execution_count": 4,
      "outputs": []
    },
    {
      "cell_type": "code",
      "source": [
        "X.shape"
      ],
      "metadata": {
        "colab": {
          "base_uri": "https://localhost:8080/"
        },
        "id": "MXDk4zZFU2rU",
        "outputId": "215024c5-34ee-4292-9ee6-17891d0c7796"
      },
      "execution_count": 5,
      "outputs": [
        {
          "output_type": "execute_result",
          "data": {
            "text/plain": [
              "(50, 3)"
            ]
          },
          "metadata": {},
          "execution_count": 5
        }
      ]
    },
    {
      "cell_type": "code",
      "source": [
        "# sns.scatterplot(X)"
      ],
      "metadata": {
        "id": "1FCaK6G_VB7z"
      },
      "execution_count": 6,
      "outputs": []
    },
    {
      "cell_type": "code",
      "source": [
        "mean = np.mean(X, axis = 0)\n",
        "mean"
      ],
      "metadata": {
        "colab": {
          "base_uri": "https://localhost:8080/"
        },
        "id": "q_MJzx0NVD-6",
        "outputId": "f86aab72-c9c3-49e5-f30f-bce525978173"
      },
      "execution_count": 7,
      "outputs": [
        {
          "output_type": "execute_result",
          "data": {
            "text/plain": [
              "array([160.12271631,  59.82164248,  23.33563572])"
            ]
          },
          "metadata": {},
          "execution_count": 7
        }
      ]
    },
    {
      "cell_type": "code",
      "source": [
        "std = np.std(X, axis = 0)\n",
        "std"
      ],
      "metadata": {
        "colab": {
          "base_uri": "https://localhost:8080/"
        },
        "id": "6DNE0wyKVopr",
        "outputId": "f13bfed4-ad02-426b-ef79-011e442adfb2"
      },
      "execution_count": 8,
      "outputs": [
        {
          "output_type": "execute_result",
          "data": {
            "text/plain": [
              "array([1.11477713, 0.70468513, 0.43796175])"
            ]
          },
          "metadata": {},
          "execution_count": 8
        }
      ]
    },
    {
      "cell_type": "code",
      "source": [
        "# Standardization\n",
        "X = (X-mean)/(std)"
      ],
      "metadata": {
        "id": "9ZhpN6fpVu0u"
      },
      "execution_count": 9,
      "outputs": []
    },
    {
      "cell_type": "code",
      "source": [
        "# X"
      ],
      "metadata": {
        "id": "xGd8L0kXV32v"
      },
      "execution_count": 10,
      "outputs": []
    },
    {
      "cell_type": "code",
      "source": [
        "cov_mat = (X.T @ X)/(X.shape[0]) # 1/m * (x.T x)\n",
        "cov_mat"
      ],
      "metadata": {
        "colab": {
          "base_uri": "https://localhost:8080/"
        },
        "id": "eAnehdn7V46Z",
        "outputId": "78c69236-b41c-489c-833a-36128fad4ab9"
      },
      "execution_count": 11,
      "outputs": [
        {
          "output_type": "execute_result",
          "data": {
            "text/plain": [
              "array([[ 1.        , -0.0583358 , -0.77696883],\n",
              "       [-0.0583358 ,  1.        ,  0.67367863],\n",
              "       [-0.77696883,  0.67367863,  1.        ]])"
            ]
          },
          "metadata": {},
          "execution_count": 11
        }
      ]
    },
    {
      "cell_type": "code",
      "source": [
        "eig_vals, eig_vecs = np.linalg.eig(cov_mat)\n",
        "eig_vals, eig_vecs"
      ],
      "metadata": {
        "colab": {
          "base_uri": "https://localhost:8080/"
        },
        "id": "j3bddmW6WQfs",
        "outputId": "105b781a-1287-41d9-cf8b-bde6f08cdcc8"
      },
      "execution_count": 12,
      "outputs": [
        {
          "output_type": "execute_result",
          "data": {
            "text/plain": [
              "(array([2.05766998e+00, 9.42256481e-01, 7.35339171e-05]),\n",
              " array([[-0.53821393,  0.65473562,  0.53070428],\n",
              "        [ 0.47369559,  0.75581469, -0.45205823],\n",
              "        [ 0.69709272, -0.00808824,  0.71693537]]))"
            ]
          },
          "metadata": {},
          "execution_count": 12
        }
      ]
    },
    {
      "cell_type": "code",
      "source": [
        "# Sort the eigen vecs\n",
        "comps = np.argsort(eig_vals)[::-1]\n",
        "comps"
      ],
      "metadata": {
        "colab": {
          "base_uri": "https://localhost:8080/"
        },
        "id": "IVYiWI8qWgJK",
        "outputId": "f6e4f049-4226-40f1-9ffe-4b47045d7ec8"
      },
      "execution_count": 13,
      "outputs": [
        {
          "output_type": "execute_result",
          "data": {
            "text/plain": [
              "array([0, 1, 2])"
            ]
          },
          "metadata": {},
          "execution_count": 13
        }
      ]
    },
    {
      "cell_type": "code",
      "source": [
        "components = np.array([eig_vecs[:,i] for i in comps])\n",
        "components"
      ],
      "metadata": {
        "colab": {
          "base_uri": "https://localhost:8080/"
        },
        "id": "b4EIYyWJWvP0",
        "outputId": "8a08c969-8704-476f-e922-42959c62d419"
      },
      "execution_count": 14,
      "outputs": [
        {
          "output_type": "execute_result",
          "data": {
            "text/plain": [
              "array([[-0.53821393,  0.47369559,  0.69709272],\n",
              "       [ 0.65473562,  0.75581469, -0.00808824],\n",
              "       [ 0.53070428, -0.45205823,  0.71693537]])"
            ]
          },
          "metadata": {},
          "execution_count": 14
        }
      ]
    },
    {
      "cell_type": "code",
      "source": [
        "# sns.scatterplot(components[0])\n",
        "eig_vals"
      ],
      "metadata": {
        "colab": {
          "base_uri": "https://localhost:8080/"
        },
        "id": "PjlipuObXVq7",
        "outputId": "2dd74727-fdd4-4e75-c6f1-526aa4f4a69b"
      },
      "execution_count": 15,
      "outputs": [
        {
          "output_type": "execute_result",
          "data": {
            "text/plain": [
              "array([2.05766998e+00, 9.42256481e-01, 7.35339171e-05])"
            ]
          },
          "metadata": {},
          "execution_count": 15
        }
      ]
    },
    {
      "cell_type": "code",
      "source": [
        "X.shape"
      ],
      "metadata": {
        "colab": {
          "base_uri": "https://localhost:8080/"
        },
        "id": "_PzfG32bfgTG",
        "outputId": "bed7cb41-5881-4d96-a45f-daf2632aa061"
      },
      "execution_count": 16,
      "outputs": [
        {
          "output_type": "execute_result",
          "data": {
            "text/plain": [
              "(50, 3)"
            ]
          },
          "metadata": {},
          "execution_count": 16
        }
      ]
    },
    {
      "cell_type": "code",
      "source": [
        "import matplotlib.pyplot as plt"
      ],
      "metadata": {
        "id": "iR93XBQGhvsB"
      },
      "execution_count": 17,
      "outputs": []
    },
    {
      "cell_type": "code",
      "source": [
        "X_projected1 = X @ components[0]\n",
        "X_projected2 = X @ components[1]\n"
      ],
      "metadata": {
        "id": "ASCjoKnKXeOY"
      },
      "execution_count": 18,
      "outputs": []
    },
    {
      "cell_type": "code",
      "source": [
        "\n",
        "plt.scatter(X_projected1, X_projected2)\n",
        "\n",
        "plt.xlabel('PC1'); plt.xticks([])\n",
        "plt.ylabel('PC2'); plt.yticks([])\n",
        "plt.show()"
      ],
      "metadata": {
        "colab": {
          "base_uri": "https://localhost:8080/",
          "height": 426
        },
        "id": "zy-tiJlvYAXZ",
        "outputId": "0ae48469-bd05-4690-c185-2b979e1a523e"
      },
      "execution_count": 19,
      "outputs": [
        {
          "output_type": "display_data",
          "data": {
            "text/plain": [
              "<Figure size 640x480 with 1 Axes>"
            ],
            "image/png": "[encoded data removed]"
          },
          "metadata": {}
        }
      ]
    },
    {
      "cell_type": "code",
      "source": [
        "# Verify using SKLearn inbuilt function\n",
        "\n",
        "from sklearn.decomposition import PCA\n",
        "pca = PCA(n_components = 2).fit(X)\n",
        "\n",
        "X_pca = pca.transform(X)\n",
        "print('Transformed data shape:', X_pca.shape)\n",
        "\n",
        "plt.scatter(X_pca[:, 0], X_pca[:, 1])\n",
        "\n",
        "plt.xlabel('PC1'); plt.xticks([])\n",
        "plt.ylabel('PC2'); plt.yticks([])\n",
        "plt.show()\n"
      ],
      "metadata": {
        "colab": {
          "base_uri": "https://localhost:8080/",
          "height": 443
        },
        "id": "lzJqCahhgy6R",
        "outputId": "375eed43-cd08-4d41-a983-5dbf34bb0c14"
      },
      "execution_count": 20,
      "outputs": [
        {
          "output_type": "stream",
          "name": "stdout",
          "text": [
            "Transformed data shape: (50, 2)\n"
          ]
        },
        {
          "output_type": "display_data",
          "data": {
            "text/plain": [
              "<Figure size 640x480 with 1 Axes>"
            ],
            "image/png": "[encoded data removed]"
          },
          "metadata": {}
        }
      ]
    },
    {
      "cell_type": "code",
      "source": [
        "# Sign adjustment for the eign vectors is required to perform:\n",
        "# Hence when the eigen values and vectors found in using numpy library would result in orientation of transformed by exact 180 degrees when compared to sklearn transformation.\n",
        "# it does not affect the interpretation or the usefulness of PCA with this orientation\n",
        "# The direction (sign) of the components does not matter for the variance captured, which is the primary goal of PCA.\n",
        "# For consistency most ML experts use the sign adustment(not me)"
      ],
      "metadata": {
        "id": "H4jZYvHBki6I"
      },
      "execution_count": 21,
      "outputs": []
    }
  ]
}